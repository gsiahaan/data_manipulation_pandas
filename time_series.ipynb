{
  "nbformat": 4,
  "nbformat_minor": 0,
  "metadata": {
    "colab": {
      "name": "time_series.ipynb",
      "provenance": [],
      "authorship_tag": "ABX9TyNYhpuN3ZvfmkXkAOBY3AMS",
      "include_colab_link": true
    },
    "kernelspec": {
      "name": "python3",
      "display_name": "Python 3"
    },
    "language_info": {
      "name": "python"
    }
  },
  "cells": [
    {
      "cell_type": "markdown",
      "metadata": {
        "id": "view-in-github",
        "colab_type": "text"
      },
      "source": [
        "<a href=\"https://colab.research.google.com/github/gsiahaan/data_manipulation_pandas/blob/main/time_series.ipynb\" target=\"_parent\"><img src=\"https://colab.research.google.com/assets/colab-badge.svg\" alt=\"Open In Colab\"/></a>"
      ]
    },
    {
      "cell_type": "markdown",
      "source": [
        "***Load Dataset as Time Series***\n",
        "\n",
        "Terkadang Pandas salah mengenali object datetime menjadi object string dan pandas menjadi tidak bisa memanfaatkan full benefit dari time index.\n",
        "\n",
        "Basic format datetime menurut ISO 8601: YYYY-mm-dd HH:MM:SS.\n",
        "\n",
        " \n",
        "\n",
        "Terdapat beberapa cara untuk mengubah kolom waktu menjadi format yang benar as datetime object di Pandas. \n",
        "\n",
        " \n",
        "\n",
        "[1] read_csv, terdapat keyword argument 'parse_dates', yang jika di set True dan set index untuk kolom waktu tersebut maka kolom datetime tersebut akan transform as datetime Pandas dan menjadi index."
      ],
      "metadata": {
        "id": "rPEfZD--tw3P"
      }
    },
    {
      "cell_type": "code",
      "execution_count": 1,
      "metadata": {
        "colab": {
          "base_uri": "https://localhost:8080/"
        },
        "id": "ug2GTz7HtsfA",
        "outputId": "bdc06b56-fb61-4df4-cc00-1bbb58d0c2a8"
      },
      "outputs": [
        {
          "output_type": "stream",
          "name": "stdout",
          "text": [
            "                                                  location       city country  \\\n",
            "timestamp                                                                       \n",
            "2017-01-18 16:00:00+00:00                  MOBILE-KICKAPOO    LINCOLN      US   \n",
            "2020-04-07 20:00:00+00:00                  Oxford St Ebbes     Oxford      GB   \n",
            "2020-04-07 19:00:00+00:00                 BROADWAY (South)  St. Louis      US   \n",
            "2020-04-07 18:30:00+00:00  Deen Dayal Nagar, Sagar - MPPCB      Sagar      IN   \n",
            "2020-04-07 20:00:00+00:00                        Manglerud       Oslo      NO   \n",
            "\n",
            "                          pollutant  value   unit source_name   latitude  \\\n",
            "timestamp                                                                  \n",
            "2017-01-18 16:00:00+00:00      pm10   7.00  µg/m³      AirNow  35.488400   \n",
            "2020-04-07 20:00:00+00:00       no2  30.00  µg/m³       DEFRA  51.744804   \n",
            "2020-04-07 19:00:00+00:00      pm25   6.10  µg/m³      AirNow  38.542500   \n",
            "2020-04-07 18:30:00+00:00      pm25  23.67  µg/m³       caaqm  23.864016   \n",
            "2020-04-07 20:00:00+00:00      pm10  27.06  µg/m³      Norway  59.898690   \n",
            "\n",
            "                           longitude  averaged_over_in_hours  \n",
            "timestamp                                                     \n",
            "2017-01-18 16:00:00+00:00 -97.090280                    1.00  \n",
            "2020-04-07 20:00:00+00:00  -1.260278                    1.00  \n",
            "2020-04-07 19:00:00+00:00 -90.263610                    1.00  \n",
            "2020-04-07 18:30:00+00:00  78.802895                    0.25  \n",
            "2020-04-07 20:00:00+00:00  10.814950                    1.00  \n",
            "info\n",
            "<class 'pandas.core.frame.DataFrame'>\n",
            "DatetimeIndex: 4000 entries, 2017-01-18 16:00:00+00:00 to 2017-01-08 08:00:00+00:00\n",
            "Data columns (total 10 columns):\n",
            " #   Column                  Non-Null Count  Dtype  \n",
            "---  ------                  --------------  -----  \n",
            " 0   location                3997 non-null   object \n",
            " 1   city                    3966 non-null   object \n",
            " 2   country                 4000 non-null   object \n",
            " 3   pollutant               4000 non-null   object \n",
            " 4   value                   4000 non-null   float64\n",
            " 5   unit                    4000 non-null   object \n",
            " 6   source_name             4000 non-null   object \n",
            " 7   latitude                4000 non-null   float64\n",
            " 8   longitude               4000 non-null   float64\n",
            " 9   averaged_over_in_hours  3634 non-null   float64\n",
            "dtypes: float64(4), object(6)\n",
            "memory usage: 343.8+ KB\n",
            "None\n"
          ]
        }
      ],
      "source": [
        "import pandas as pd\n",
        "# Load dataset https://storage.googleapis.com/dqlab-dataset/LO4/global_air_quality_4000rows.csv\n",
        "gaq = pd.read_csv('https://storage.googleapis.com/dqlab-dataset/LO4/global_air_quality_4000rows.csv', parse_dates=True, index_col='timestamp')\n",
        "# Cetak 5 data teratas\n",
        "print(gaq.head())\n",
        "# Cetak info dari dataframe gaq\n",
        "print('info')\n",
        "print(gaq.info())"
      ]
    },
    {
      "cell_type": "markdown",
      "source": [
        "***Convert to Datetime***\n",
        "\n",
        "Jika dataset yang telah terlebih dahulu atau telah terlanjur di load dengan pd.read_csv dan Pandas salah mengenali object datetime menjadi object string, maka dapat mengubah kolom tertentu dari dataset tersebut menjadi format datetime.\n",
        "\n",
        " \n",
        "\n",
        "[2] pd.to_datetime digunakan untuk men-transform salah satu kolom di dataframe menjadi datetime Pandas dan kemudian set menjadi index. Mari perhatikan kembali contoh berikut:"
      ],
      "metadata": {
        "id": "weGB6yfRuiHj"
      }
    },
    {
      "cell_type": "code",
      "source": [
        "gaq2 = pd.read_csv('https://storage.googleapis.com/dqlab-dataset/LO4/global_air_quality_4000rows.csv')\n",
        "# Cetak 5 data teratas\n",
        "print('Sebelum diubah dalam format datetime:\\n', gaq2.head())\n",
        "# Ubah menjadi datetime\n",
        "gaq2['timestamp'] = pd.to_datetime(gaq2['timestamp'])\n",
        "gaq2 = gaq2.set_index('timestamp')\n",
        "# Cetak 5 data teratas\n",
        "print('Sesudah diubah dalam format datetime:\\n', gaq2.head())"
      ],
      "metadata": {
        "colab": {
          "base_uri": "https://localhost:8080/"
        },
        "id": "iHUwBOVfvjE7",
        "outputId": "3c55d60d-de47-4d55-fe86-c630f2f4c121"
      },
      "execution_count": 2,
      "outputs": [
        {
          "output_type": "stream",
          "name": "stdout",
          "text": [
            "Sebelum diubah dalam format datetime:\n",
            "                           location       city country pollutant  value  \\\n",
            "0                  MOBILE-KICKAPOO    LINCOLN      US      pm10   7.00   \n",
            "1                  Oxford St Ebbes     Oxford      GB       no2  30.00   \n",
            "2                 BROADWAY (South)  St. Louis      US      pm25   6.10   \n",
            "3  Deen Dayal Nagar, Sagar - MPPCB      Sagar      IN      pm25  23.67   \n",
            "4                        Manglerud       Oslo      NO      pm10  27.06   \n",
            "\n",
            "                 timestamp   unit source_name   latitude  longitude  \\\n",
            "0  2017-01-18 16:00:00 UTC  µg/m³      AirNow  35.488400 -97.090280   \n",
            "1  2020-04-07 20:00:00 UTC  µg/m³       DEFRA  51.744804  -1.260278   \n",
            "2  2020-04-07 19:00:00 UTC  µg/m³      AirNow  38.542500 -90.263610   \n",
            "3  2020-04-07 18:30:00 UTC  µg/m³       caaqm  23.864016  78.802895   \n",
            "4  2020-04-07 20:00:00 UTC  µg/m³      Norway  59.898690  10.814950   \n",
            "\n",
            "   averaged_over_in_hours  \n",
            "0                    1.00  \n",
            "1                    1.00  \n",
            "2                    1.00  \n",
            "3                    0.25  \n",
            "4                    1.00  \n",
            "Sesudah diubah dalam format datetime:\n",
            "                                                   location       city country  \\\n",
            "timestamp                                                                       \n",
            "2017-01-18 16:00:00+00:00                  MOBILE-KICKAPOO    LINCOLN      US   \n",
            "2020-04-07 20:00:00+00:00                  Oxford St Ebbes     Oxford      GB   \n",
            "2020-04-07 19:00:00+00:00                 BROADWAY (South)  St. Louis      US   \n",
            "2020-04-07 18:30:00+00:00  Deen Dayal Nagar, Sagar - MPPCB      Sagar      IN   \n",
            "2020-04-07 20:00:00+00:00                        Manglerud       Oslo      NO   \n",
            "\n",
            "                          pollutant  value   unit source_name   latitude  \\\n",
            "timestamp                                                                  \n",
            "2017-01-18 16:00:00+00:00      pm10   7.00  µg/m³      AirNow  35.488400   \n",
            "2020-04-07 20:00:00+00:00       no2  30.00  µg/m³       DEFRA  51.744804   \n",
            "2020-04-07 19:00:00+00:00      pm25   6.10  µg/m³      AirNow  38.542500   \n",
            "2020-04-07 18:30:00+00:00      pm25  23.67  µg/m³       caaqm  23.864016   \n",
            "2020-04-07 20:00:00+00:00      pm10  27.06  µg/m³      Norway  59.898690   \n",
            "\n",
            "                           longitude  averaged_over_in_hours  \n",
            "timestamp                                                     \n",
            "2017-01-18 16:00:00+00:00 -97.090280                    1.00  \n",
            "2020-04-07 20:00:00+00:00  -1.260278                    1.00  \n",
            "2020-04-07 19:00:00+00:00 -90.263610                    1.00  \n",
            "2020-04-07 18:30:00+00:00  78.802895                    0.25  \n",
            "2020-04-07 20:00:00+00:00  10.814950                    1.00  \n"
          ]
        }
      ]
    },
    {
      "cell_type": "markdown",
      "source": [
        "***Resampling untuk Time Series Data***\n",
        "\n",
        "Pandas time series juga memiliki fungsi resampling yang dapat berguna untuk:\n",
        "\n",
        "[1] Downsampling\n",
        "\n",
        "Mengurangi baris datetime menjadi frekuensi yang lebih lambat, bisa dibilang juga mengurangi rows dataset menjadi lebih sedikit\n",
        "\n",
        "Contoh: mengubah kolom datetime yang awalnya daily menjadi monthly\n",
        "\n",
        " \n",
        "\n",
        "[2] Upsampling\n",
        "\n",
        "Kebalikan dari downsampling, menambah baris datetime menjadi frekuensi yang lebih cepat, menambah rows dataset dengan membuat kolom datetime menjadi lebih detail\n",
        "\n",
        "Contoh: mengubah kolom datetime yang awalnya daily menjadi hourly\n",
        "\n",
        " \n",
        "\n",
        "Dari resampling ini, kemudian dapat menerapkan metode statistik untuk transform value data yang ada (ex: mean, sum, count, etc).\n",
        "\n",
        " \n",
        "\n",
        "Tabel resampling untuk time series:\n",
        "Input                     Description\n",
        "\n",
        "'Min', 'T'                  minute\n",
        "\n",
        "'H'                         hour\n",
        "'D'                         day\n",
        "\n",
        "'B'                         Business day\n",
        "'W'                         week\n",
        "'M'                         month\n",
        "'Q'                         quarter\n",
        "'A'                         year"
      ],
      "metadata": {
        "id": "w7IThXUzwCk-"
      }
    },
    {
      "cell_type": "markdown",
      "source": [
        "***Downsampling***\n",
        "\n",
        "Shorten data to weekly and quarterly, like Trading Shares."
      ],
      "metadata": {
        "id": "a9zhn-q0yKtn"
      }
    },
    {
      "cell_type": "code",
      "source": [
        "# [1] Downsampling dari daily to weekly dan kita hitung maksimum untuk seminggu\n",
        "gaq_weekly = gaq.resample('W').max()\n",
        "print('Downsampling daily to weekly - max (5 teratas):\\n', gaq_weekly.head())\n",
        "# [2] Downsampling dari daily to quarterly dan kita hitung minimumnya untuk tiap quarter\n",
        "gaq_quarterly = gaq.resample('Q').min()\n",
        "print('Downsampling daily to quarterly - min (5 teratas):\\n', gaq_quarterly.head())"
      ],
      "metadata": {
        "colab": {
          "base_uri": "https://localhost:8080/"
        },
        "id": "M0j8CFMnyJEg",
        "outputId": "80c04134-776f-478c-8e5f-04807091537b"
      },
      "execution_count": 3,
      "outputs": [
        {
          "output_type": "stream",
          "name": "stdout",
          "text": [
            "Downsampling daily to weekly - max (5 teratas):\n",
            "                           country pollutant  value   unit source_name  \\\n",
            "timestamp                                                               \n",
            "2014-05-18 00:00:00+00:00      PH      pm25    9.7  µg/m³     Spartan   \n",
            "2014-05-25 00:00:00+00:00     NaN       NaN    NaN    NaN         NaN   \n",
            "2014-06-01 00:00:00+00:00     NaN       NaN    NaN    NaN         NaN   \n",
            "2014-06-08 00:00:00+00:00     NaN       NaN    NaN    NaN         NaN   \n",
            "2014-06-15 00:00:00+00:00     NaN       NaN    NaN    NaN         NaN   \n",
            "\n",
            "                           latitude  longitude  averaged_over_in_hours  \n",
            "timestamp                                                               \n",
            "2014-05-18 00:00:00+00:00    14.635     121.08                     1.0  \n",
            "2014-05-25 00:00:00+00:00       NaN        NaN                     NaN  \n",
            "2014-06-01 00:00:00+00:00       NaN        NaN                     NaN  \n",
            "2014-06-08 00:00:00+00:00       NaN        NaN                     NaN  \n",
            "2014-06-15 00:00:00+00:00       NaN        NaN                     NaN  \n",
            "Downsampling daily to quarterly - min (5 teratas):\n",
            "                           country pollutant  value   unit source_name  \\\n",
            "timestamp                                                               \n",
            "2014-06-30 00:00:00+00:00      PH      pm25    9.7  µg/m³     Spartan   \n",
            "2014-09-30 00:00:00+00:00      US      pm25    7.1  µg/m³     Spartan   \n",
            "2014-12-31 00:00:00+00:00     NaN       NaN    NaN    NaN         NaN   \n",
            "2015-03-31 00:00:00+00:00     NaN       NaN    NaN    NaN         NaN   \n",
            "2015-06-30 00:00:00+00:00      AR      pm25   18.1  µg/m³     Spartan   \n",
            "\n",
            "                           latitude  longitude  averaged_over_in_hours  \n",
            "timestamp                                                               \n",
            "2014-06-30 00:00:00+00:00    14.635    121.080                     1.0  \n",
            "2014-09-30 00:00:00+00:00    37.132    -86.148                     1.0  \n",
            "2014-12-31 00:00:00+00:00       NaN        NaN                     NaN  \n",
            "2015-03-31 00:00:00+00:00       NaN        NaN                     NaN  \n",
            "2015-06-30 00:00:00+00:00   -34.560    -58.506                     1.0  \n"
          ]
        },
        {
          "output_type": "stream",
          "name": "stderr",
          "text": [
            "/usr/local/lib/python3.7/dist-packages/pandas/core/apply.py:577: FutureWarning: Dropping invalid columns in DataFrameGroupBy.max is deprecated. In a future version, a TypeError will be raised. Before calling .max, select only columns which should be valid for the function.\n",
            "  return f(*args, **kwargs)\n",
            "/usr/local/lib/python3.7/dist-packages/pandas/core/apply.py:577: FutureWarning: Dropping invalid columns in DataFrameGroupBy.min is deprecated. In a future version, a TypeError will be raised. Before calling .min, select only columns which should be valid for the function.\n",
            "  return f(*args, **kwargs)\n"
          ]
        }
      ]
    },
    {
      "cell_type": "markdown",
      "source": [
        "***Upsampling***\n"
      ],
      "metadata": {
        "id": "Jj4cRR-by1b2"
      }
    },
    {
      "cell_type": "code",
      "source": [
        "# Upsampling dari daily to hourly dan kita hitung reratanya\n",
        "gaq_hourly = gaq.resample('H').mean()\n",
        "print('Upsampling daily to hourly - mean (5 teratas):\\n', gaq_hourly.head())"
      ],
      "metadata": {
        "colab": {
          "base_uri": "https://localhost:8080/"
        },
        "id": "CsQz1tLE0Ktb",
        "outputId": "b35b4cc7-6804-45eb-d8cc-fda278a94be5"
      },
      "execution_count": 5,
      "outputs": [
        {
          "output_type": "stream",
          "name": "stdout",
          "text": [
            "Upsampling daily to hourly - mean (5 teratas):\n",
            "                            value  latitude  longitude  averaged_over_in_hours\n",
            "timestamp                                                                    \n",
            "2014-05-13 03:00:00+00:00    9.7    14.635     121.08                     1.0\n",
            "2014-05-13 04:00:00+00:00    NaN       NaN        NaN                     NaN\n",
            "2014-05-13 05:00:00+00:00    NaN       NaN        NaN                     NaN\n",
            "2014-05-13 06:00:00+00:00    NaN       NaN        NaN                     NaN\n",
            "2014-05-13 07:00:00+00:00    NaN       NaN        NaN                     NaN\n"
          ]
        }
      ]
    },
    {
      "cell_type": "markdown",
      "source": [
        "***Resampling by Frequency***\n",
        "\n",
        "Pada bagian ini akan mempelajari bagaimanakah caranya me-resampling data (baik upsampling atau downsampling) berdasarkan frekuensi, misalnya sekali 2 minggu, tiap 12 jam, dsb."
      ],
      "metadata": {
        "id": "qjKpV66e4euT"
      }
    },
    {
      "cell_type": "code",
      "source": [
        "gaq2_2monthly = gaq2.resample('2M').mean().fillna(method='bfill')\n",
        "print('Resampling daily to 2 monthly - mean - ffill (5 teratas):\\n', gaq2_2monthly.head())"
      ],
      "metadata": {
        "colab": {
          "base_uri": "https://localhost:8080/"
        },
        "id": "nBH4tdbz4hSv",
        "outputId": "30359b2e-9ebb-403c-9e94-762b95ce3c3d"
      },
      "execution_count": 6,
      "outputs": [
        {
          "output_type": "stream",
          "name": "stdout",
          "text": [
            "Resampling daily to 2 monthly - mean - ffill (5 teratas):\n",
            "                            value  latitude  longitude  averaged_over_in_hours\n",
            "timestamp                                                                    \n",
            "2014-05-31 00:00:00+00:00    9.7    14.635    121.080                     1.0\n",
            "2014-07-31 00:00:00+00:00    7.1    37.132    -86.148                     1.0\n",
            "2014-09-30 00:00:00+00:00    7.1    37.132    -86.148                     1.0\n",
            "2014-11-30 00:00:00+00:00   18.1   -34.560    -58.506                     1.0\n",
            "2015-01-31 00:00:00+00:00   18.1   -34.560    -58.506                     1.0\n"
          ]
        }
      ]
    },
    {
      "cell_type": "markdown",
      "source": [
        "***VISUALISASI***\n",
        "\n",
        "Selanjutnya untuk memvisualisasikan dengan menggunakan library matplotlib dataframe yang telah diolah "
      ],
      "metadata": {
        "id": "zcjXuNSvJ6SR"
      }
    },
    {
      "cell_type": "code",
      "source": [
        "import matplotlib.pyplot as plt\n",
        "gaq_viz = gaq2[['pollutant', 'value']].reset_index().set_index(['timestamp', 'pollutant'])\n",
        "gaq_viz = gaq_viz.pivot_table(index='timestamp', columns='pollutant',aggfunc='mean').fillna(0)\n",
        "gaq_viz.columns = gaq_viz.columns.droplevel(0)\n",
        "print('Data (5 teratas):\\n', gaq_viz.head())\n",
        "# [2] Membuat fungsi yang memberikan default value 0 ketika value nya di bawah 0 dan apply ke setiap elemen dari dataset tersebut, kemudian menampilkannya sebagai chart\n",
        "def default_val(val):\n",
        " if val < 0:\n",
        "   return 0\n",
        " else:\n",
        "   return val\n",
        "line1 = gaq_viz.resample('M').mean().ffill().applymap(lambda x: default_val(x)).apply(lambda x: x/x.max()) # default value if value < 0 then 0, kemudian menghasilkan % value = value/max(value)\n",
        "line1.plot(\n",
        "   title = 'average value of each pollutant over months',\n",
        "   figsize = (10, 10), #ukuran canvas 10px x 10px\n",
        "   ylim = (0, 1.25), #memberikan batas tampilan y-axis hanya 0 sampai 125%\n",
        "   subplots = True #memecah plot menjadi beberapa bagian sesuai dengan jumlah kolom\n",
        ")\n",
        "plt.ylabel('avg pollutant (%)')\n",
        "plt.xlabel('month')\n",
        "plt.show()"
      ],
      "metadata": {
        "colab": {
          "base_uri": "https://localhost:8080/",
          "height": 817
        },
        "id": "uswaraKO58nJ",
        "outputId": "2c49c849-3e0a-444d-d05d-922303fcda2a"
      },
      "execution_count": 7,
      "outputs": [
        {
          "output_type": "stream",
          "name": "stdout",
          "text": [
            "Data (5 teratas):\n",
            " pollutant                   bc   co  no2   o3  pm10  pm25  so2\n",
            "timestamp                                                     \n",
            "2014-05-13 03:00:00+00:00  0.0  0.0  0.0  0.0   0.0   9.7  0.0\n",
            "2014-08-12 20:00:00+00:00  0.0  0.0  0.0  0.0   0.0   7.1  0.0\n",
            "2015-04-15 00:00:00+00:00  0.0  0.0  0.0  0.0   0.0  18.1  0.0\n",
            "2015-08-21 01:00:00+00:00  0.0  0.0  0.0  0.0   0.0  36.9  0.0\n",
            "2015-09-13 01:00:00+00:00  0.0  0.0  0.0  0.0   0.0   8.8  0.0\n"
          ]
        },
        {
          "output_type": "display_data",
          "data": {
            "text/plain": [
              "<Figure size 720x720 with 7 Axes>"
            ],
            "image/png": "[encoded data removed]"
          },
          "metadata": {
            "needs_background": "light"
          }
        }
      ]
    }
  ]
}