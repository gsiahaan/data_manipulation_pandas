{
  "nbformat": 4,
  "nbformat_minor": 0,
  "metadata": {
    "colab": {
      "name": "tutorial.ipynb",
      "provenance": [],
      "authorship_tag": "ABX9TyOljEUdFL8hplF5VjnoPQgY",
      "include_colab_link": true
    },
    "kernelspec": {
      "name": "python3",
      "display_name": "Python 3"
    },
    "language_info": {
      "name": "python"
    }
  },
  "cells": [
    {
      "cell_type": "markdown",
      "metadata": {
        "id": "view-in-github",
        "colab_type": "text"
      },
      "source": [
        "<a href=\"https://colab.research.google.com/github/gsiahaan/data_manipulation_pandas/blob/main/Aggregation_GroupBy/tutorial.ipynb\" target=\"_parent\"><img src=\"https://colab.research.google.com/assets/colab-badge.svg\" alt=\"Open In Colab\"/></a>"
      ]
    },
    {
      "cell_type": "code",
      "execution_count": 1,
      "metadata": {
        "id": "VwoebyV2aLmE"
      },
      "outputs": [],
      "source": [
        "import pandas as pd"
      ]
    },
    {
      "cell_type": "code",
      "source": [
        "global_air_quality = pd.read_csv('https://storage.googleapis.com/dqlab-dataset/LO4/global_air_quality_4000rows.csv')\n",
        "print('Lima data teratas: ', global_air_quality.head())"
      ],
      "metadata": {
        "colab": {
          "base_uri": "https://localhost:8080/"
        },
        "id": "DhA5-2wiaXy4",
        "outputId": "93a2e9f5-b9e1-42af-9ca6-e620d580e62f"
      },
      "execution_count": 2,
      "outputs": [
        {
          "output_type": "stream",
          "name": "stdout",
          "text": [
            "Lima data teratas:                            location       city country pollutant  value  \\\n",
            "0                  MOBILE-KICKAPOO    LINCOLN      US      pm10   7.00   \n",
            "1                  Oxford St Ebbes     Oxford      GB       no2  30.00   \n",
            "2                 BROADWAY (South)  St. Louis      US      pm25   6.10   \n",
            "3  Deen Dayal Nagar, Sagar - MPPCB      Sagar      IN      pm25  23.67   \n",
            "4                        Manglerud       Oslo      NO      pm10  27.06   \n",
            "\n",
            "                 timestamp   unit source_name   latitude  longitude  \\\n",
            "0  2017-01-18 16:00:00 UTC  µg/m³      AirNow  35.488400 -97.090280   \n",
            "1  2020-04-07 20:00:00 UTC  µg/m³       DEFRA  51.744804  -1.260278   \n",
            "2  2020-04-07 19:00:00 UTC  µg/m³      AirNow  38.542500 -90.263610   \n",
            "3  2020-04-07 18:30:00 UTC  µg/m³       caaqm  23.864016  78.802895   \n",
            "4  2020-04-07 20:00:00 UTC  µg/m³      Norway  59.898690  10.814950   \n",
            "\n",
            "   averaged_over_in_hours  \n",
            "0                    1.00  \n",
            "1                    1.00  \n",
            "2                    1.00  \n",
            "3                    0.25  \n",
            "4                    1.00  \n"
          ]
        }
      ]
    },
    {
      "cell_type": "markdown",
      "source": [
        "\n",
        "\n",
        "---\n",
        "\n",
        "Melihat data sekilas"
      ],
      "metadata": {
        "id": "RQ0afX8nbsI7"
      }
    },
    {
      "cell_type": "code",
      "source": [
        "print(global_air_quality.info())"
      ],
      "metadata": {
        "colab": {
          "base_uri": "https://localhost:8080/"
        },
        "id": "WP81J7IPbwzW",
        "outputId": "1f4fc224-68b9-4e3c-f594-57d96533efad"
      },
      "execution_count": 3,
      "outputs": [
        {
          "output_type": "stream",
          "name": "stdout",
          "text": [
            "<class 'pandas.core.frame.DataFrame'>\n",
            "RangeIndex: 4000 entries, 0 to 3999\n",
            "Data columns (total 11 columns):\n",
            " #   Column                  Non-Null Count  Dtype  \n",
            "---  ------                  --------------  -----  \n",
            " 0   location                3997 non-null   object \n",
            " 1   city                    3966 non-null   object \n",
            " 2   country                 4000 non-null   object \n",
            " 3   pollutant               4000 non-null   object \n",
            " 4   value                   4000 non-null   float64\n",
            " 5   timestamp               4000 non-null   object \n",
            " 6   unit                    4000 non-null   object \n",
            " 7   source_name             4000 non-null   object \n",
            " 8   latitude                4000 non-null   float64\n",
            " 9   longitude               4000 non-null   float64\n",
            " 10  averaged_over_in_hours  3634 non-null   float64\n",
            "dtypes: float64(4), object(7)\n",
            "memory usage: 343.9+ KB\n",
            "None\n"
          ]
        }
      ]
    },
    {
      "cell_type": "code",
      "source": [
        "print(global_air_quality.count())"
      ],
      "metadata": {
        "colab": {
          "base_uri": "https://localhost:8080/"
        },
        "id": "IZwfcFKBcD9Y",
        "outputId": "f13cba0d-4eb3-4dfa-a0ce-3fbe84c8e026"
      },
      "execution_count": 4,
      "outputs": [
        {
          "output_type": "stream",
          "name": "stdout",
          "text": [
            "location                  3997\n",
            "city                      3966\n",
            "country                   4000\n",
            "pollutant                 4000\n",
            "value                     4000\n",
            "timestamp                 4000\n",
            "unit                      4000\n",
            "source_name               4000\n",
            "latitude                  4000\n",
            "longitude                 4000\n",
            "averaged_over_in_hours    3634\n",
            "dtype: int64\n"
          ]
        }
      ]
    },
    {
      "cell_type": "code",
      "source": [
        "gaq_groupby_count = global_air_quality.groupby('source_name').count()\n",
        "print('Count dengan groupby (5 data teratas): \\n', gaq_groupby_count.head())"
      ],
      "metadata": {
        "colab": {
          "base_uri": "https://localhost:8080/"
        },
        "id": "oOBqaHfvcS0U",
        "outputId": "11b44551-66b9-45a8-c57d-0de0d0868c2c"
      },
      "execution_count": 6,
      "outputs": [
        {
          "output_type": "stream",
          "name": "stdout",
          "text": [
            "Count dengan groupby (5 data teratas): \n",
            "              location  city  country  pollutant  value  timestamp  unit  \\\n",
            "source_name                                                               \n",
            "ARPALAZIO          72    72       72         72     72         72    72   \n",
            "Agaar.mn           27    27       27         27     27         27    27   \n",
            "AirNow           1712  1681     1715       1715   1715       1715  1715   \n",
            "Andalucia          71    71       71         71     71         71    71   \n",
            "Anqing              4     4        4          4      4          4     4   \n",
            "\n",
            "             latitude  longitude  averaged_over_in_hours  \n",
            "source_name                                               \n",
            "ARPALAZIO          72         72                      72  \n",
            "Agaar.mn           27         27                       0  \n",
            "AirNow           1715       1715                    1715  \n",
            "Andalucia          71         71                      71  \n",
            "Anqing              4          4                       4  \n"
          ]
        }
      ]
    },
    {
      "cell_type": "code",
      "source": [
        "pollutant = global_air_quality[['country', 'city', 'pollutant', 'value']].pivot_table(index=['country', 'city'], columns='pollutant').fillna(0)\n",
        "\n",
        "print('Data pollutant (5 teratas): \\n', pollutant.head())"
      ],
      "metadata": {
        "colab": {
          "base_uri": "https://localhost:8080/"
        },
        "id": "aCSAUs-ifsCq",
        "outputId": "e1e6b72e-a9bf-470f-ca6f-8f69f5170ffb"
      },
      "execution_count": 9,
      "outputs": [
        {
          "output_type": "stream",
          "name": "stdout",
          "text": [
            "Data pollutant (5 teratas): \n",
            "                      value                                     \n",
            "pollutant               bc      co   no2   o3   pm10  pm25  so2\n",
            "country city                                                   \n",
            "AR      Buenos Aires   0.0     0.0   0.0  0.0    0.0  18.1  0.0\n",
            "AU      Townsville     0.0     0.0   0.0  0.0    0.0   3.9  0.0\n",
            "BA      Goražde        0.0   141.0  19.0  8.0    0.0   0.0  0.0\n",
            "        Ilijaš         0.0     0.0   0.0  0.0  100.0   0.0  0.0\n",
            "        Jajce          0.0  1508.0  25.0  6.0    9.0   0.0  0.0\n"
          ]
        }
      ]
    },
    {
      "cell_type": "markdown",
      "source": [
        "Group berdasarkan country dan terapkan aggregasi mean, method .mean() setelah penerapan method .groupby() digunakan untuk mencari rata-rata dari tiap kelompok."
      ],
      "metadata": {
        "id": "4OS1449Co7XB"
      }
    },
    {
      "cell_type": "code",
      "source": [
        "pollutant_mean = pollutant.groupby('country').mean()\n",
        "\n",
        "print('Rata-rata pollutan (5 teratas): \\n', pollutant_mean.head())"
      ],
      "metadata": {
        "colab": {
          "base_uri": "https://localhost:8080/"
        },
        "id": "iifKFIIOo2Bh",
        "outputId": "935ef659-234d-4f48-c37d-5363a08e5cc8"
      },
      "execution_count": 11,
      "outputs": [
        {
          "output_type": "stream",
          "name": "stdout",
          "text": [
            "Rata-rata pollutan (5 teratas): \n",
            "           value                                                         \\\n",
            "pollutant    bc          co        no2        o3       pm10       pm25   \n",
            "country                                                                  \n",
            "AR          0.0    0.000000   0.000000  0.000000   0.000000  18.100000   \n",
            "AU          0.0    0.000000   0.000000  0.000000   0.000000   3.900000   \n",
            "BA          0.0  475.833333  19.500000  5.833333  40.333333   0.000000   \n",
            "CA          0.0    0.036818   0.000355  0.025963   0.836364   3.433601   \n",
            "CL          0.0    0.000000  21.000000  0.000000   0.000000   0.000000   \n",
            "\n",
            "                      \n",
            "pollutant        so2  \n",
            "country               \n",
            "AR          0.000000  \n",
            "AU          0.000000  \n",
            "BA         18.000000  \n",
            "CA          0.000091  \n",
            "CL          0.000000  \n"
          ]
        }
      ]
    },
    {
      "cell_type": "markdown",
      "source": [
        "Group berdasarkan country dan terapkan aggregasi std, method .std() setelah penerapan method .groupby() digunakan untuk mencari standard deviasi (penyimpangan) dari tiap kelompok."
      ],
      "metadata": {
        "id": "gRCR2FtTpVKw"
      }
    },
    {
      "cell_type": "code",
      "source": [
        "pollutant_std = pollutant.groupby('country').std().fillna(0)\n",
        "\n",
        "print('Standar Deviasi pollutan (5 teratas): \\n', pollutant_std.head())"
      ],
      "metadata": {
        "colab": {
          "base_uri": "https://localhost:8080/"
        },
        "id": "Jas2OIZCpgP7",
        "outputId": "8d549849-f595-4a28-bfd4-757fc0542345"
      },
      "execution_count": 13,
      "outputs": [
        {
          "output_type": "stream",
          "name": "stdout",
          "text": [
            "Standar Deviasi pollutan (5 teratas): \n",
            "           value                                                        \\\n",
            "pollutant    bc          co        no2        o3       pm10      pm25   \n",
            "country                                                                 \n",
            "AR          0.0    0.000000   0.000000  0.000000   0.000000  0.000000   \n",
            "AU          0.0    0.000000   0.000000  0.000000   0.000000  0.000000   \n",
            "BA          0.0  536.925476  11.945711  8.207720  46.701891  0.000000   \n",
            "CA          0.0    0.089841   0.000750  0.019323   1.713052  2.286509   \n",
            "CL          0.0    0.000000   0.000000  0.000000   0.000000  0.000000   \n",
            "\n",
            "                      \n",
            "pollutant        so2  \n",
            "country               \n",
            "AR          0.000000  \n",
            "AU          0.000000  \n",
            "BA         30.403947  \n",
            "CA          0.000302  \n",
            "CL          0.000000  \n"
          ]
        }
      ]
    },
    {
      "cell_type": "markdown",
      "source": [
        "Group berdasarkan country dan terapkan aggregasi sum, method .sum() setelah penerapan method .groupby() digunakan untuk mencari total nilai dari tiap kelompok."
      ],
      "metadata": {
        "id": "e3Y9VNUZrbVh"
      }
    },
    {
      "cell_type": "code",
      "source": [
        "pollutant_sum = pollutant.groupby('country').sum()\n",
        "\n",
        "print('Sum pollutan (5 teratas): \\n', pollutant_sum.head())"
      ],
      "metadata": {
        "colab": {
          "base_uri": "https://localhost:8080/"
        },
        "id": "Dt5jc9-ArYqN",
        "outputId": "c58b9497-8bf5-42ec-b66b-5bfa31ed5c4a"
      },
      "execution_count": 14,
      "outputs": [
        {
          "output_type": "stream",
          "name": "stdout",
          "text": [
            "Sum pollutan (5 teratas): \n",
            "           value                                                          \n",
            "pollutant    bc        co       no2         o3   pm10       pm25      so2\n",
            "country                                                                  \n",
            "AR          0.0     0.000    0.0000   0.000000    0.0  18.100000    0.000\n",
            "AU          0.0     0.000    0.0000   0.000000    0.0   3.900000    0.000\n",
            "BA          0.0  2855.000  117.0000  35.000000  242.0   0.000000  108.000\n",
            "CA          0.0     0.405    0.0039   0.285593    9.2  37.769608    0.001\n",
            "CL          0.0     0.000   21.0000   0.000000    0.0   0.000000    0.000\n"
          ]
        }
      ]
    },
    {
      "cell_type": "markdown",
      "source": [
        "Group berdasarkan country dan terapkan aggregasi nunique, method .nunique() setelah penerapan method .groupby() digunakan untuk mencari berapakah jumlah unique value dari tiap kelompok."
      ],
      "metadata": {
        "id": "iQ1a86oXroiz"
      }
    },
    {
      "cell_type": "code",
      "source": [
        "pollutant_nunique = pollutant.groupby('country').nunique()\n",
        "\n",
        "print('Nunique pollutan (5 teratas): \\n', pollutant_nunique.head())"
      ],
      "metadata": {
        "colab": {
          "base_uri": "https://localhost:8080/"
        },
        "id": "qI2-h0l6rp8H",
        "outputId": "f661ce92-2ec7-4153-978f-4cb79e771f88"
      },
      "execution_count": 15,
      "outputs": [
        {
          "output_type": "stream",
          "name": "stdout",
          "text": [
            "Nunique pollutan (5 teratas): \n",
            "           value                        \n",
            "pollutant    bc co no2 o3 pm10 pm25 so2\n",
            "country                                \n",
            "AR            1  1   1  1    1    1   1\n",
            "AU            1  1   1  1    1    1   1\n",
            "BA            1  6   6  4    5    1   4\n",
            "CA            1  3   4  9    4   10   2\n",
            "CL            1  1   1  1    1    1   1\n"
          ]
        }
      ]
    },
    {
      "cell_type": "markdown",
      "source": [
        "[5] Group berdasarkan country dan terapkan aggregasi min, method .min() setelah penerapan method .groupby() digunakan untuk memunculkan nilai terkecil dari tiap kelompok."
      ],
      "metadata": {
        "id": "PjrIzgfbsJwj"
      }
    },
    {
      "cell_type": "code",
      "source": [
        "pollutant_max = pollutant.groupby('country').max()\n",
        "print('Max pollutant (5 teratas): \\n', pollutant_max.head())"
      ],
      "metadata": {
        "colab": {
          "base_uri": "https://localhost:8080/"
        },
        "id": "uu2KyDgisKny",
        "outputId": "b2ed21f8-6070-44f0-bf43-7d5eab633ba4"
      },
      "execution_count": 18,
      "outputs": [
        {
          "output_type": "stream",
          "name": "stdout",
          "text": [
            "Max pollutant (5 teratas): \n",
            "           value                                                   \n",
            "pollutant    bc        co      no2         o3   pm10  pm25     so2\n",
            "country                                                           \n",
            "AR          0.0     0.000   0.0000   0.000000    0.0  18.1   0.000\n",
            "AU          0.0     0.000   0.0000   0.000000    0.0   3.9   0.000\n",
            "BA          0.0  1508.000  32.0000  21.000000  100.0   0.0  78.000\n",
            "CA          0.0     0.285   0.0024   0.048333    5.2   6.0   0.001\n",
            "CL          0.0     0.000  21.0000   0.000000    0.0   0.0   0.000\n"
          ]
        }
      ]
    },
    {
      "cell_type": "code",
      "source": [
        "pollutant_min = pollutant.groupby('country').min()\n",
        "print('Minimum pollutant (5 teratas): \\n', pollutant_min.head())"
      ],
      "metadata": {
        "colab": {
          "base_uri": "https://localhost:8080/"
        },
        "id": "SrhmVU8Kse0Y",
        "outputId": "a9d4f32a-0f2b-4c23-eb02-105dced5035b"
      },
      "execution_count": 20,
      "outputs": [
        {
          "output_type": "stream",
          "name": "stdout",
          "text": [
            "Minimum pollutant (5 teratas): \n",
            "           value                                \n",
            "pollutant    bc   co   no2   o3 pm10  pm25  so2\n",
            "country                                        \n",
            "AR          0.0  0.0   0.0  0.0  0.0  18.1  0.0\n",
            "AU          0.0  0.0   0.0  0.0  0.0   3.9  0.0\n",
            "BA          0.0  0.0   0.0  0.0  0.0   0.0  0.0\n",
            "CA          0.0  0.0   0.0  0.0  0.0   0.0  0.0\n",
            "CL          0.0  0.0  21.0  0.0  0.0   0.0  0.0\n"
          ]
        }
      ]
    },
    {
      "cell_type": "code",
      "source": [
        "pollutant_first = pollutant.groupby('country').first()\n",
        "print('First pollutant (5 teratas): \\n', pollutant_first.head())"
      ],
      "metadata": {
        "colab": {
          "base_uri": "https://localhost:8080/"
        },
        "id": "s61MrrfwtpzN",
        "outputId": "8493c78f-c25d-430f-d129-6567be89e986"
      },
      "execution_count": 21,
      "outputs": [
        {
          "output_type": "stream",
          "name": "stdout",
          "text": [
            "First pollutant (5 teratas): \n",
            "           value                                            \n",
            "pollutant    bc       co      no2        o3 pm10  pm25  so2\n",
            "country                                                    \n",
            "AR          0.0    0.000   0.0000  0.000000  0.0  18.1  0.0\n",
            "AU          0.0    0.000   0.0000  0.000000  0.0   3.9  0.0\n",
            "BA          0.0  141.000  19.0000  8.000000  0.0   0.0  0.0\n",
            "CA          0.0    0.285   0.0024  0.048333  0.0   3.9  0.0\n",
            "CL          0.0    0.000  21.0000  0.000000  0.0   0.0  0.0\n"
          ]
        }
      ]
    },
    {
      "cell_type": "code",
      "source": [
        "pollutant_last = pollutant.groupby('country').last()\n",
        "print('Last pollutant (5 teratas): \\n', pollutant_last.head())"
      ],
      "metadata": {
        "colab": {
          "base_uri": "https://localhost:8080/"
        },
        "id": "LZzg6JEftwxq",
        "outputId": "e945499c-3a5a-4930-d3bd-53239ade8942"
      },
      "execution_count": 22,
      "outputs": [
        {
          "output_type": "stream",
          "name": "stdout",
          "text": [
            "Last pollutant (5 teratas): \n",
            "           value                                      \n",
            "pollutant    bc     co   no2     o3  pm10  pm25   so2\n",
            "country                                              \n",
            "AR          0.0    0.0   0.0  0.000   0.0  18.1   0.0\n",
            "AU          0.0    0.0   0.0  0.000   0.0   3.9   0.0\n",
            "BA          0.0  292.0  29.0  0.000  96.0   0.0  78.0\n",
            "CA          0.0    0.0   0.0  0.036   3.0   0.0   0.0\n",
            "CL          0.0    0.0  21.0  0.000   0.0   0.0   0.0\n"
          ]
        }
      ]
    },
    {
      "cell_type": "markdown",
      "source": [
        "multiple aggregations pada dataframe pollutant dengan fungsi aggregasinya adalah 'min', 'median', 'mean', 'max'."
      ],
      "metadata": {
        "id": "9LAzPrUz24sV"
      }
    },
    {
      "cell_type": "code",
      "source": [
        "multiagg = pollutant.groupby('country').agg(['min','median','mean','max'])\n",
        "print('Multiple aggregations (5 teratas):\\n', multiagg.head())"
      ],
      "metadata": {
        "colab": {
          "base_uri": "https://localhost:8080/"
        },
        "id": "4rWOCAlFt2Rq",
        "outputId": "61caa285-4da1-4a56-ae4a-b57caf8fa40e"
      },
      "execution_count": 23,
      "outputs": [
        {
          "output_type": "stream",
          "name": "stdout",
          "text": [
            "Multiple aggregations (5 teratas):\n",
            "           value                                                           \\\n",
            "pollutant    bc                    co                                no2   \n",
            "            min median mean  max  min median        mean       max   min   \n",
            "country                                                                    \n",
            "AR          0.0    0.0  0.0  0.0  0.0    0.0    0.000000     0.000   0.0   \n",
            "AU          0.0    0.0  0.0  0.0  0.0    0.0    0.000000     0.000   0.0   \n",
            "BA          0.0    0.0  0.0  0.0  0.0  355.0  475.833333  1508.000   0.0   \n",
            "CA          0.0    0.0  0.0  0.0  0.0    0.0    0.036818     0.285   0.0   \n",
            "CL          0.0    0.0  0.0  0.0  0.0    0.0    0.000000     0.000  21.0   \n",
            "\n",
            "                  ...                                                       \\\n",
            "pollutant         ...       pm10         pm25                          so2   \n",
            "          median  ...       mean    max   min median       mean   max  min   \n",
            "country           ...                                                        \n",
            "AR           0.0  ...   0.000000    0.0  18.1   18.1  18.100000  18.1  0.0   \n",
            "AU           0.0  ...   0.000000    0.0   3.9    3.9   3.900000   3.9  0.0   \n",
            "BA          22.0  ...  40.333333  100.0   0.0    0.0   0.000000   0.0  0.0   \n",
            "CA           0.0  ...   0.836364    5.2   0.0    4.0   3.433601   6.0  0.0   \n",
            "CL          21.0  ...   0.000000    0.0   0.0    0.0   0.000000   0.0  0.0   \n",
            "\n",
            "                                     \n",
            "pollutant                            \n",
            "          median       mean     max  \n",
            "country                              \n",
            "AR           0.0   0.000000   0.000  \n",
            "AU           0.0   0.000000   0.000  \n",
            "BA           5.5  18.000000  78.000  \n",
            "CA           0.0   0.000091   0.001  \n",
            "CL           0.0   0.000000   0.000  \n",
            "\n",
            "[5 rows x 28 columns]\n"
          ]
        }
      ]
    },
    {
      "cell_type": "markdown",
      "source": [
        "***Groupby dengan Custom Aggregations***\n",
        "\n",
        "\n",
        "Dengan membuat sebuah Python function (user defined) dapat menggunakan sebagai custom aggregation pada dataframe yang telah di groupby."
      ],
      "metadata": {
        "id": "7yQ9kgVZ34HD"
      }
    },
    {
      "cell_type": "code",
      "source": [
        "def iqr(series):\n",
        "\tQ1 = series.quantile(0.25)\n",
        "\tQ3 = series.quantile(0.75)\n",
        "\treturn Q3 - Q1\n",
        "# Group berdasarkan country dan terapkan aggregasi dari function: iqr\n",
        "custom_agg = pollutant.groupby('country').agg(iqr)\n",
        "print('Custom aggregation (5 teratas):\\n', custom_agg.head())"
      ],
      "metadata": {
        "colab": {
          "base_uri": "https://localhost:8080/"
        },
        "id": "yLVgxVmj36wv",
        "outputId": "7ae7b9b1-a131-4666-e7f4-09f864941830"
      },
      "execution_count": 24,
      "outputs": [
        {
          "output_type": "stream",
          "name": "stdout",
          "text": [
            "Custom aggregation (5 teratas):\n",
            "           value                                                  \n",
            "pollutant    bc      co       no2        o3  pm10      pm25   so2\n",
            "country                                                          \n",
            "AR          0.0    0.00   0.00000  0.000000   0.0  0.000000   0.0\n",
            "AU          0.0    0.00   0.00000  0.000000   0.0  0.000000   0.0\n",
            "BA          0.0  297.75  14.25000  7.500000  79.0  0.000000  17.0\n",
            "CA          0.0    0.00   0.00025  0.035708   0.5  3.876471   0.0\n",
            "CL          0.0    0.00   0.00000  0.000000   0.0  0.000000   0.0\n"
          ]
        }
      ]
    },
    {
      "cell_type": "markdown",
      "source": [
        ""
      ],
      "metadata": {
        "id": "iuciwvTK-gsh"
      }
    },
    {
      "cell_type": "code",
      "source": [
        "custom_agg_dict = pollutant['value'][['pm10','pm25','so2']].groupby('country').agg({\n",
        "   'pm10':'median',\n",
        "   'pm25':iqr,\n",
        "   'so2':iqr\n",
        "})\n",
        "print('\\nCetak 5 data teratas custom_agg_dict:\\n', custom_agg_dict)"
      ],
      "metadata": {
        "colab": {
          "base_uri": "https://localhost:8080/"
        },
        "id": "0Ed333ng-fEw",
        "outputId": "97c89a8e-298b-4d1f-a645-a80df69310f0"
      },
      "execution_count": 25,
      "outputs": [
        {
          "output_type": "stream",
          "name": "stdout",
          "text": [
            "\n",
            "Cetak 5 data teratas custom_agg_dict:\n",
            " pollutant       pm10       pm25        so2\n",
            "country                                   \n",
            "AR           0.00000   0.000000   0.000000\n",
            "AU           0.00000   0.000000   0.000000\n",
            "BA          23.00000   0.000000  17.000000\n",
            "CA           0.00000   3.876471   0.000000\n",
            "CL           0.00000   0.000000   0.000000\n",
            "CN          55.00000  19.000000  10.000000\n",
            "CO           0.00000   9.679230   0.000000\n",
            "ES           0.00000   0.000000   4.500000\n",
            "GB           0.00000   8.000000   0.000000\n",
            "ID           0.00000   0.000000   0.000000\n",
            "IL           0.00000   0.000000   0.001317\n",
            "IN           0.00000  26.695000   7.175000\n",
            "IT          17.95000  12.708333   7.041667\n",
            "MK           0.00000   0.000000   0.000000\n",
            "MN         136.50000   0.000000   0.000000\n",
            "MT           0.00000  17.175250   0.177172\n",
            "MX          36.00000   9.166667   0.003111\n",
            "NO           3.80000   6.732700   0.000000\n",
            "PE          33.20250   0.000000   0.000000\n",
            "PH           0.00000   0.000000   0.000000\n",
            "PL           0.00000   0.000000   3.675820\n",
            "SE          18.43125  13.891300   0.000000\n",
            "TH          31.00000   0.000000   0.002750\n",
            "TR          22.50000   0.000000  11.187500\n",
            "TW          24.75000  17.750000   0.002250\n",
            "US           0.00000   5.000000   0.000000\n",
            "VN           0.00000   0.000000   0.000000\n",
            "XK           0.00000  15.274750   5.042500\n"
          ]
        }
      ]
    }
  ]
}